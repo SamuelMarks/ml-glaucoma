{
 "cells": [
  {
   "cell_type": "code",
   "execution_count": null,
   "outputs": [],
   "source": [
    "from os import path, environ\n",
    "from itertools import filterfalse, repeat, chain\n",
    "from functools import partial\n",
    "from operator import itemgetter, contains\n",
    "from collections import namedtuple\n",
    "from six import string_types\n",
    "import urllib.parse\n",
    "\n",
    "from IPython.display import Image, display, HTML\n",
    "\n",
    "import numpy as np\n",
    "import pandas as pd\n",
    "\n",
    "df = pd \\\n",
    "       .read_excel('/'.join(('file://localhost',\n",
    "                             path.expanduser('~').replace(path.sep, '/'),\n",
    "                             'OneDrive - The University of Sydney (Students)',\n",
    "                             'DR SPOC - Graders 1 and 2.xlsx')),\n",
    "                   skiprows=1, header=[0,1], index_col=[0])\n",
    "\n",
    "display(HTML('<h2>Filtered DR SPOC - Graders 1 and 2</h2>'))\n",
    "df"
   ],
   "metadata": {
    "collapsed": false,
    "pycharm": {
     "name": "#%%\n"
    }
   }
  },
  {
   "cell_type": "code",
   "execution_count": null,
   "outputs": [],
   "source": [
    "def chain_unique(*args):\n",
    "    seen = set()\n",
    "    yield from (v for v in chain(*args)\n",
    "                if v not in seen and not seen.add(v))\n",
    "\n",
    "display(HTML('<h2>Columns</h2>'))\n",
    "\n",
    "display(HTML(\n",
    "    '<ul>\\n{}\\n</ul>'.format('\\n'.join(\n",
    "        '  <li>\"{}\"</li>'.format(col)\n",
    "        for col in chain_unique(map(itemgetter(1), df.axes[1]))\n",
    "))))"
   ],
   "metadata": {
    "collapsed": false,
    "pycharm": {
     "name": "#%%\n"
    }
   }
  },
  {
   "cell_type": "code",
   "execution_count": null,
   "outputs": [],
   "source": [
    "manycat2threecat = {\n",
    "    'Maculopathy': (\n",
    "        'non-referable',    # [0] No diabetic maculopathy\n",
    "        'referable',        # [1] HEx distant from the fovea\n",
    "        'referable',        # [2] HEx approaching the fovea\n",
    "        'referable',        # [3] HEx involving the fovea\n",
    "        'referable',        # [4] Maculopathy, unspecified\n",
    "        'No gradable image' # [5] No gradable image\n",
    "    ),\n",
    "    'ETDRS Grading': (        \n",
    "        'non-referable',    # [0] No DR\n",
    "        'referable',        # [1] Mild non-proliferative (mild pre-proliferative)\n",
    "        'referable',        # [2] Moderate non-proliferative/ moderate pre-proliferative\n",
    "        'referable',        # [3] Severe non-proliferative/ severe pre-proliferative\n",
    "        'referable',        # [4] Proliferative retinopathy\n",
    "        'referable',        # [5] Pre-retinal fibrosis+/- tractional retinal detachment\n",
    "        'referable',        # [6] Treated proliferative retinopathy, Unstable\n",
    "        'referable',        # [7] Treated proliferative retinopathy, Stable\n",
    "        'No gradable image' # [8] No gradable image\n",
    "    ),\n",
    "    'Overall Findings': (\n",
    "        np.nan,\n",
    "        'referable',        # [1] Vision-threatening retinopathy\n",
    "        'referable',        # [2] Non-proliferative diabetic retinopathy\n",
    "        'non-referable',    # [3] No DR\n",
    "        'No gradable image' # [4] Ungradable\n",
    "    ),\n",
    "    'Overall Quality of the Photographs Taken': (\n",
    "        np.nan,\n",
    "        'No gradable image', # [1] Inadequate for any diagnostic purpose\n",
    "        'No gradable image', # [2] Unable to exclude emergent findings\n",
    "        'No gradable image', # [3] Only able to exclude emergent findings\n",
    "        'No gradable image', # [4] Not ideal but still able to exclude subtle findings\n",
    "        'referable',         # [5] Ideal quality\n",
    "    )\n",
    "}\n",
    "\n",
    "axes = filter(lambda c: c[:2] in frozenset(('R1', 'R2', 'L1', 'L2')),\n",
    "              map(itemgetter(0), df.axes[1]))\n",
    "columns = filterfalse(\n",
    "    partial(contains,\n",
    "            frozenset(\n",
    "                ('Overall quality of the photographs taken',\n",
    "                 'Overall Finding'))),\n",
    "    chain_unique(map(itemgetter(1), df.axes[1])))\n",
    "\n",
    "def to_manycat_name(o):\n",
    "    if isinstance(o, string_types):\n",
    "        o = o,\n",
    "    \n",
    "    for e in o[::-1]:\n",
    "        lower_e = e.lower()\n",
    "        if lower_e == 'overall quality of the photographs taken':\n",
    "            return 'Overall Quality of the Photographs Taken'\n",
    "        elif e.startswith('ETDRS') or e == 'Overall Findings':\n",
    "            return e\n",
    "        elif 'macul' in lower_e:\n",
    "            # print('matched with: {!r}'.format(e))\n",
    "            return 'Maculopathy'\n",
    "        elif e.startswith('Overall Finding'):\n",
    "            return 'Overall Findings'\n",
    "        else:\n",
    "            print('no match found for: {!r}'.format(e))\n",
    "    \n",
    "    raise TypeError('{!r} no key found for'.format(o))\n",
    "\n",
    "def grad_mac2(series):\n",
    "    def from_s(value):\n",
    "        if pd.isnull(value) or isinstance(value, string_types):\n",
    "            return value\n",
    "        value = np.ushort(value)\n",
    "        name = series.name if series.name in manycat2threecat else to_manycat_name(series.name)\n",
    "\n",
    "        mapped = manycat2threecat.get(name)\n",
    "\n",
    "        return value if mapped is None or len(mapped) < value else mapped[value]\n",
    "\n",
    "    return series if series is None else series.apply(from_s)\n",
    "\n",
    "df = df.transform(grad_mac2)\n",
    "df"
   ],
   "metadata": {
    "collapsed": false,
    "pycharm": {
     "name": "#%%\n"
    }
   }
  },
  {
   "cell_type": "code",
   "execution_count": null,
   "outputs": [],
   "source": [
    "df.axes"
   ],
   "metadata": {
    "collapsed": false,
    "pycharm": {
     "name": "#%%\n"
    }
   }
  },
  {
   "cell_type": "code",
   "execution_count": null,
   "outputs": [],
   "source": [
    "display(HTML('<h2>Disc-centred photo counts</h2>'))\n",
    "df[filter(lambda column: 'disc-centred photo' in column,\n",
    "          df.columns)] \\\n",
    "  .apply(pd.value_counts)"
   ],
   "metadata": {
    "collapsed": false,
    "pycharm": {
     "name": "#%%\n"
    }
   }
  },
  {
   "cell_type": "markdown",
   "source": [
    "- no DR & no diabetic maculopathy would classify as 'healthy'\n",
    "- no gradable image would classify as 'ungradable' and \n",
    "- everything else would be 'DR'"
   ],
   "metadata": {
    "collapsed": false
   }
  },
  {
   "cell_type": "code",
   "execution_count": null,
   "outputs": [],
   "source": [
    "LocationPid = namedtuple('LocationPid', ('location', 'pid', 'position'))\n",
    "\n",
    "def parseFname(fname):\n",
    "    bname = path.splitext(path.basename(fname))[0]\n",
    "    buffer, location, pid, last_char = '', '', '', ''\n",
    "    i = 0\n",
    "    while i < len(bname):\n",
    "        location = last_char\n",
    "        if location + bname[i] in frozenset(('R1', 'R2', 'L1', 'L2')):\n",
    "            pid = pid[:-1]\n",
    "            break\n",
    "        pid += bname[i]\n",
    "        last_char = bname[i]\n",
    "        i += 1\n",
    "    return LocationPid(location=location, pid=pid, position='macula' if location[0] == 'R' else 'disc')\n",
    "\n",
    "# R1 = Right macula     centred photo\n",
    "# R2 = Right optic disc centred photo\n",
    "# L1 = Left  macula     centred photo\n",
    "# L2 = Left optic disc  centred photo\n",
    "\n",
    "parseFname('DR SPOC Photo Dataset/6146/Upload/WA112325R2-8.jpg')"
   ],
   "metadata": {
    "collapsed": false,
    "pycharm": {
     "name": "#%%\n"
    }
   }
  },
  {
   "cell_type": "code",
   "execution_count": null,
   "outputs": [],
   "source": [
    "def sql_gen(fname, diagnosis):\n",
    "    location, pid = parseFname(fname)\n",
    "    prefix = 'fundus_images/'\n",
    "    quoted_location = urllib.parse.quote(\n",
    "        '{prefix}DR SPOC Photo Dataset/6146/Upload/WA112325R2-4.jpg'.format(prefix=prefix),\n",
    "        safe=''\n",
    "    )\n",
    "    return '\\n'.join(map(lambda l: l.lstrip(' '), '''\n",
    "        BEGIN TRANSACTION;\n",
    "\n",
    "        INSERT INTO artifact_tbl (location, \"contentType\")\n",
    "        VALUES ('{quoted_location}', 'image/jpeg');\n",
    "\n",
    "        INSERT INTO categorise_tbl (\"artifactLocation\", \"categoryEnumName\", category, username)\n",
    "        VALUES ('{quoted_location}',\n",
    "                \\t'Simple-categories', '{diagnosis}', 'spreadsheet');\n",
    "\n",
    "        END TRANSACTION;\n",
    "        '''.format(quoted_location=quoted_location, diagnosis=diagnosis).split('\\n')))\n",
    "\n",
    "print(sql_gen(#(\n",
    "    'DR SPOC Photo Dataset/6146/Upload/WA112325R2-8.jpg', 'REFERABLE')\n",
    "    #('DR SPOC Photo Dataset/6146/Upload/WA112325R2-9.jpg', 'NON-REFERABLE'),\n",
    "    #('DR SPOC Photo Dataset/6146/Upload/WA112325R2-1.jpg', 'UNGRADABLE')\n",
    "#))\n",
    ")"
   ],
   "metadata": {
    "collapsed": false,
    "pycharm": {
     "name": "#%%\n"
    }
   }
  },
  {
   "cell_type": "code",
   "execution_count": null,
   "outputs": [],
   "source": [
    "import psycopg2\n",
    "\n",
    "result = urllib.parse.urlparse(environ['RDBMS_URI'])\n",
    "\n",
    "with psycopg2.connect(\n",
    "    database = result.path[1:],\n",
    "    user = result.username,\n",
    "    password = result.password,\n",
    "    host = result.hostname\n",
    ") as conn:\n",
    "    with conn.cursor() as curs:\n",
    "        curs.execute('SELECT 5*5')\n",
    "        print(curs.fetchone())"
   ],
   "metadata": {
    "collapsed": false,
    "pycharm": {
     "name": "#%%\n"
    }
   }
  }
 ],
 "metadata": {
  "kernel_info": {
   "name": "tfenv_py3"
  },
  "kernelspec": {
   "display_name": "tfenv_py3",
   "language": "python",
   "name": "tfenv_py3"
  },
  "language_info": {
   "codemirror_mode": {
    "name": "ipython",
    "version": 3
   },
   "file_extension": ".py",
   "mimetype": "text/x-python",
   "name": "python",
   "nbconvert_exporter": "python",
   "pygments_lexer": "ipython3",
   "version": "3.7.5"
  },
  "nteract": {
   "version": "0.15.0"
  },
  "pycharm": {
   "stem_cell": {
    "cell_type": "raw",
    "source": [],
    "metadata": {
     "collapsed": false
    }
   }
  }
 },
 "nbformat": 4,
 "nbformat_minor": 2
}
